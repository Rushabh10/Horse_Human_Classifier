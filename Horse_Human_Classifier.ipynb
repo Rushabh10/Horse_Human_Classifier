{
 "cells": [
  {
   "cell_type": "code",
   "execution_count": 5,
   "metadata": {},
   "outputs": [],
   "source": [
    "import tensorflow as tf\n",
    "from tensorflow import keras\n",
    "import numpy as np\n",
    "import os"
   ]
  },
  {
   "cell_type": "code",
   "execution_count": 6,
   "metadata": {},
   "outputs": [],
   "source": [
    "train_horse_dir = \"C:\\\\Users\\\\rushi\\\\horse-or-human\\\\horses\"\n",
    "train_human_dir = \"C:\\\\Users\\\\rushi\\\\horse-or-human\\\\humans\""
   ]
  },
  {
   "cell_type": "code",
   "execution_count": 12,
   "metadata": {},
   "outputs": [
    {
     "name": "stdout",
     "output_type": "stream",
     "text": [
      "['horse01-0.png', 'horse01-1.png', 'horse01-2.png', 'horse01-3.png', 'horse01-4.png', 'horse01-5.png', 'horse01-6.png', 'horse01-7.png', 'horse01-8.png', 'horse01-9.png']\n",
      "['human01-00.png', 'human01-01.png', 'human01-02.png', 'human01-03.png', 'human01-04.png', 'human01-05.png', 'human01-06.png', 'human01-07.png', 'human01-08.png', 'human01-09.png']\n",
      "Number of horse images =  500\n",
      "Number of human images =  527\n"
     ]
    }
   ],
   "source": [
    "train_horse_names = os.listdir(train_horse_dir)\n",
    "train_human_names = os.listdir(train_human_dir)\n",
    "\n",
    "print(train_horse_names[:10])\n",
    "print(train_human_names[:10])\n",
    "\n",
    "print(\"Number of horse images = \", len(train_horse_names))\n",
    "print(\"Number of human images = \", len(train_human_names))"
   ]
  },
  {
   "cell_type": "code",
   "execution_count": 14,
   "metadata": {},
   "outputs": [],
   "source": [
    "#Constructing the neural network\n",
    "\n",
    "model = keras.models.Sequential([ #First convolution layer, image size is 300x300, 3 bytes for colour depth(RGB)\n",
    "                                keras.layers.Conv2D(16, (3, 3), activation='relu', input_shape = (300, 300, 3)),\n",
    "                                keras.layers.MaxPooling2D(2, 2),\n",
    "                                #Second convolution layer\n",
    "                                keras.layers.Conv2D(32, (3, 3), activation='relu'),\n",
    "                                keras.layers.MaxPooling2D(2, 2),\n",
    "                                #Third convolution layer\n",
    "                                keras.layers.Conv2D(64, (3, 3), activation='relu'),\n",
    "                                keras.layers.MaxPooling2D(2, 2),\n",
    "                                #Fourth convolution layer\n",
    "                                keras.layers.Conv2D(64, (3, 3), activation='relu'),\n",
    "                                keras.layers.MaxPooling2D(2, 2),\n",
    "                                #Fifth convolution layer\n",
    "                                keras.layers.Conv2D(64, (3, 3), activation='relu'),\n",
    "                                keras.layers.MaxPooling2D(2, 2),\n",
    "                                #Converting data to 1D form to feed to neural net\n",
    "                                keras.layers.Flatten(),\n",
    "                                #First hidden layer with 128 neurons\n",
    "                                keras.layers.Dense(128, activation='relu'),\n",
    "                                #Second hidden layer with 128 neurons\n",
    "                                keras.layers.Dense(128, activation='relu'),\n",
    "                                #Output layer - 0 for male and 1 for female\n",
    "                                keras.layers.Dense(1, activation='sigmoid')\n",
    "                                ])"
   ]
  },
  {
   "cell_type": "code",
   "execution_count": 15,
   "metadata": {},
   "outputs": [
    {
     "name": "stdout",
     "output_type": "stream",
     "text": [
      "Model: \"sequential\"\n",
      "_________________________________________________________________\n",
      "Layer (type)                 Output Shape              Param #   \n",
      "=================================================================\n",
      "conv2d_2 (Conv2D)            (None, 298, 298, 16)      448       \n",
      "_________________________________________________________________\n",
      "max_pooling2d (MaxPooling2D) (None, 149, 149, 16)      0         \n",
      "_________________________________________________________________\n",
      "conv2d_3 (Conv2D)            (None, 147, 147, 32)      4640      \n",
      "_________________________________________________________________\n",
      "max_pooling2d_1 (MaxPooling2 (None, 73, 73, 32)        0         \n",
      "_________________________________________________________________\n",
      "conv2d_4 (Conv2D)            (None, 71, 71, 64)        18496     \n",
      "_________________________________________________________________\n",
      "max_pooling2d_2 (MaxPooling2 (None, 35, 35, 64)        0         \n",
      "_________________________________________________________________\n",
      "conv2d_5 (Conv2D)            (None, 33, 33, 64)        36928     \n",
      "_________________________________________________________________\n",
      "max_pooling2d_3 (MaxPooling2 (None, 16, 16, 64)        0         \n",
      "_________________________________________________________________\n",
      "conv2d_6 (Conv2D)            (None, 14, 14, 64)        36928     \n",
      "_________________________________________________________________\n",
      "max_pooling2d_4 (MaxPooling2 (None, 7, 7, 64)          0         \n",
      "_________________________________________________________________\n",
      "flatten (Flatten)            (None, 3136)              0         \n",
      "_________________________________________________________________\n",
      "dense (Dense)                (None, 128)               401536    \n",
      "_________________________________________________________________\n",
      "dense_1 (Dense)              (None, 128)               16512     \n",
      "_________________________________________________________________\n",
      "dense_2 (Dense)              (None, 1)                 129       \n",
      "=================================================================\n",
      "Total params: 515,617\n",
      "Trainable params: 515,617\n",
      "Non-trainable params: 0\n",
      "_________________________________________________________________\n"
     ]
    }
   ],
   "source": [
    "model.summary()"
   ]
  },
  {
   "cell_type": "code",
   "execution_count": 17,
   "metadata": {},
   "outputs": [],
   "source": [
    "from tensorflow.keras.optimizers import RMSprop #This is an optimization algo that automates learning rate tuning\n",
    "\n",
    "model.compile(loss='binary_crossentropy',\n",
    "             optimizer=RMSprop(lr=0.001),\n",
    "             metrics=['acc'])"
   ]
  },
  {
   "cell_type": "code",
   "execution_count": 25,
   "metadata": {},
   "outputs": [
    {
     "name": "stdout",
     "output_type": "stream",
     "text": [
      "Found 1027 images belonging to 2 classes.\n"
     ]
    }
   ],
   "source": [
    "#Data Preprocessing\n",
    "\n",
    "from tensorflow.keras.preprocessing.image import ImageDataGenerator\n",
    "\n",
    "train_datagen = ImageDataGenerator(rescale = 1/255)\n",
    "\n",
    "#train_datagen.fit(\"C:\\\\Users\\\\rushi\\\\horse-or-human\")\n",
    "\n",
    "train_generator = train_datagen.flow_from_directory(\n",
    "        \"C:\\\\Users\\\\rushi\\\\horse-or-human\",\n",
    "        target_size = (300, 300),\n",
    "        batch_size = 128,\n",
    "        class_mode = 'binary')\n",
    "\n"
   ]
  },
  {
   "cell_type": "code",
   "execution_count": 26,
   "metadata": {},
   "outputs": [
    {
     "name": "stdout",
     "output_type": "stream",
     "text": [
      "Epoch 1/15\n",
      "8/8 [==============================] - 52s 6s/step - loss: 0.8259 - acc: 0.6596\n",
      "Epoch 2/15\n",
      "8/8 [==============================] - 65s 8s/step - loss: 0.6667 - acc: 0.6279\n",
      "Epoch 3/15\n",
      "8/8 [==============================] - 51s 6s/step - loss: 0.7425 - acc: 0.6899\n",
      "Epoch 4/15\n",
      "8/8 [==============================] - 67s 8s/step - loss: 0.4643 - acc: 0.8135\n",
      "Epoch 5/15\n",
      "8/8 [==============================] - 56s 7s/step - loss: 0.3870 - acc: 0.8509\n",
      "Epoch 6/15\n",
      "8/8 [==============================] - 58s 7s/step - loss: 0.2320 - acc: 0.9010\n",
      "Epoch 7/15\n",
      "8/8 [==============================] - 62s 8s/step - loss: 0.3528 - acc: 0.8598\n",
      "Epoch 8/15\n",
      "8/8 [==============================] - 63s 8s/step - loss: 0.5248 - acc: 0.8587\n",
      "Epoch 9/15\n",
      "8/8 [==============================] - 66s 8s/step - loss: 0.3739 - acc: 0.8888\n",
      "Epoch 10/15\n",
      "8/8 [==============================] - 66s 8s/step - loss: 0.0756 - acc: 0.9633\n",
      "Epoch 11/15\n",
      "8/8 [==============================] - 66s 8s/step - loss: 0.1043 - acc: 0.9577\n",
      "Epoch 12/15\n",
      "8/8 [==============================] - 64s 8s/step - loss: 0.0535 - acc: 0.9755\n",
      "Epoch 13/15\n",
      "8/8 [==============================] - 70s 9s/step - loss: 0.0443 - acc: 0.9844\n",
      "Epoch 14/15\n",
      "8/8 [==============================] - 64s 8s/step - loss: 0.1223 - acc: 0.9533\n",
      "Epoch 15/15\n",
      "8/8 [==============================] - 66s 8s/step - loss: 0.2499 - acc: 0.9388\n"
     ]
    }
   ],
   "source": [
    "#Training the model\n",
    "\n",
    "history = model.fit_generator(\n",
    "        train_generator,\n",
    "        steps_per_epoch = 8,\n",
    "        epochs = 15,\n",
    "        verbose = 1)"
   ]
  },
  {
   "cell_type": "code",
   "execution_count": 63,
   "metadata": {},
   "outputs": [
    {
     "name": "stdout",
     "output_type": "stream",
     "text": [
      "This is a human\n"
     ]
    }
   ],
   "source": [
    "from tensorflow.keras.preprocessing import image\n",
    "\n",
    "path = \"F:\\\\kim.jpg\"\n",
    "img = image.load_img(path, target_size = (300, 300));\n",
    "x = image.img_to_array(img)\n",
    "x = np.expand_dims(x, axis=0)\n",
    "\n",
    "images = np.vstack([x])\n",
    "\n",
    "ans = model.predict(images, batch_size = 5)\n",
    "if(ans > 0.5):\n",
    "    print(\"This is a human\")\n",
    "elif(ans <=0.5):\n",
    "    print(\"This is a horse\")\n",
    "\n"
   ]
  },
  {
   "cell_type": "code",
   "execution_count": null,
   "metadata": {},
   "outputs": [],
   "source": []
  },
  {
   "cell_type": "code",
   "execution_count": null,
   "metadata": {},
   "outputs": [],
   "source": []
  }
 ],
 "metadata": {
  "kernelspec": {
   "display_name": "Python 3",
   "language": "python",
   "name": "python3"
  },
  "language_info": {
   "codemirror_mode": {
    "name": "ipython",
    "version": 3
   },
   "file_extension": ".py",
   "mimetype": "text/x-python",
   "name": "python",
   "nbconvert_exporter": "python",
   "pygments_lexer": "ipython3",
   "version": "3.7.3"
  }
 },
 "nbformat": 4,
 "nbformat_minor": 2
}
